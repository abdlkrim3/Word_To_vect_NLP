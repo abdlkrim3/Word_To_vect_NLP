{
 "cells": [
  {
   "cell_type": "markdown",
   "metadata": {},
   "source": [
    "## Le Modèle CBOW"
   ]
  },
  {
   "cell_type": "code",
   "execution_count": null,
   "metadata": {
    "_kg_hide-input": true,
    "papermill": {
     "duration": 0.687449,
     "end_time": "2022-06-10T00:07:43.628962",
     "exception": false,
     "start_time": "2022-06-10T00:07:42.941513",
     "status": "completed"
    },
    "tags": []
   },
   "outputs": [
    {
     "name": "stderr",
     "output_type": "stream",
     "text": [
      "[nltk_data] Downloading package punkt to\n",
      "[nltk_data]     C:\\Users\\lenovo\\AppData\\Roaming\\nltk_data...\n",
      "[nltk_data]   Package punkt is already up-to-date!\n"
     ]
    }
   ],
   "source": [
    "import numpy as np\n",
    "import re\n",
    "import nltk\n",
    "from nltk.tokenize import word_tokenize\n",
    "nltk.download('punkt')"
   ]
  },
  {
   "cell_type": "markdown",
   "metadata": {
    "papermill": {
     "duration": 0.028492,
     "end_time": "2022-06-10T00:07:43.976955",
     "exception": false,
     "start_time": "2022-06-10T00:07:43.948463",
     "status": "completed"
    },
    "tags": []
   },
   "source": [
    "## dataset"
   ]
  },
  {
   "cell_type": "code",
   "execution_count": 186,
   "metadata": {
    "papermill": {
     "duration": 0.03905,
     "end_time": "2022-06-10T00:07:44.046005",
     "exception": false,
     "start_time": "2022-06-10T00:07:44.006955",
     "status": "completed"
    },
    "tags": []
   },
   "outputs": [],
   "source": [
    "sentences = \"\"\"الذكاء الاصطناعي هو مجال يهتم بتطوير الأنظمة التي يمكنها أداء المهام التي تتطلب عادةً الذكاء البشري.\n",
    "تتضمن هذه المهام مثل التعرف على الصور، معالجة اللغة الطبيعية، والتنبؤ. يعمل الذكاء الاصطناعي على تحسين الكفاءة وجودة العمل في مختلف الصناعات.\"\"\""
   ]
  },
  {
   "cell_type": "markdown",
   "metadata": {
    "papermill": {
     "duration": 0.02946,
     "end_time": "2022-06-10T00:07:44.105065",
     "exception": false,
     "start_time": "2022-06-10T00:07:44.075605",
     "status": "completed"
    },
    "tags": []
   },
   "source": [
    "### Clean Data"
   ]
  },
  {
   "cell_type": "code",
   "execution_count": 187,
   "metadata": {
    "papermill": {
     "duration": 0.047874,
     "end_time": "2022-06-10T00:07:44.189429",
     "exception": false,
     "start_time": "2022-06-10T00:07:44.141555",
     "status": "completed"
    },
    "tags": []
   },
   "outputs": [],
   "source": [
    "# remove special characters\n",
    "sentences = re.sub('[^\\u0621-\\u064A\\s]', ' ', sentences) \n",
    "\n",
    "custom_stop_words = [\n",
    "    \"هذا\", \"في\", \"على\", \"هو\", \"هي\", \"من\", \"ما\", \"إلى\", \"أن\", \"عن\", \"و\", \"لا\"\n",
    "]\n",
    "words = word_tokenize(sentences)\n",
    "filtered_words = [word for word in words if word not in custom_stop_words]\n",
    "# remove 1 letter words\n",
    "sentences = re.sub(r'(?:^| )\\w(?:$| )', ' ', sentences).strip()\n",
    "sentences = \" \".join(filtered_words)"
   ]
  },
  {
   "cell_type": "code",
   "execution_count": 188,
   "metadata": {},
   "outputs": [
    {
     "data": {
      "text/plain": [
       "'الذكاء الاصطناعي مجال يهتم بتطوير الأنظمة التي يمكنها أداء المهام التي تتطلب عادة الذكاء البشري تتضمن هذه المهام مثل التعرف الصور معالجة اللغة الطبيعية والتنبؤ يعمل الذكاء الاصطناعي تحسين الكفاءة وجودة العمل مختلف الصناعات'"
      ]
     },
     "execution_count": 188,
     "metadata": {},
     "output_type": "execute_result"
    }
   ],
   "source": [
    "sentences"
   ]
  },
  {
   "cell_type": "code",
   "execution_count": 189,
   "metadata": {},
   "outputs": [
    {
     "data": {
      "text/plain": [
       "'الذكاء الاصطناعي مجال يهتم بتطوير الأنظمة التي يمكنها أداء المهام التي تتطلب عادة الذكاء البشري تتضمن هذه المهام مثل التعرف الصور معالجة اللغة الطبيعية والتنبؤ يعمل الذكاء الاصطناعي تحسين الكفاءة وجودة العمل مختلف الصناعات'"
      ]
     },
     "execution_count": 189,
     "metadata": {},
     "output_type": "execute_result"
    }
   ],
   "source": [
    "sentences"
   ]
  },
  {
   "cell_type": "markdown",
   "metadata": {
    "papermill": {
     "duration": 0.03198,
     "end_time": "2022-06-10T00:07:44.252318",
     "exception": false,
     "start_time": "2022-06-10T00:07:44.220338",
     "status": "completed"
    },
    "tags": []
   },
   "source": [
    "## vocabulary"
   ]
  },
  {
   "cell_type": "code",
   "execution_count": 190,
   "metadata": {
    "papermill": {
     "duration": 0.042019,
     "end_time": "2022-06-10T00:07:44.325533",
     "exception": false,
     "start_time": "2022-06-10T00:07:44.283514",
     "status": "completed"
    },
    "tags": []
   },
   "outputs": [],
   "source": [
    "words = sentences.split()\n",
    "vocab = set(words)"
   ]
  },
  {
   "cell_type": "code",
   "execution_count": 191,
   "metadata": {
    "papermill": {
     "duration": 0.037772,
     "end_time": "2022-06-10T00:07:44.393401",
     "exception": false,
     "start_time": "2022-06-10T00:07:44.355629",
     "status": "completed"
    },
    "tags": []
   },
   "outputs": [],
   "source": [
    "vocab_size = len(vocab)\n",
    "embed_dim = 10\n",
    "context_size = 2"
   ]
  },
  {
   "cell_type": "markdown",
   "metadata": {
    "papermill": {
     "duration": 0.028574,
     "end_time": "2022-06-10T00:07:44.509784",
     "exception": false,
     "start_time": "2022-06-10T00:07:44.481210",
     "status": "completed"
    },
    "tags": []
   },
   "source": [
    "### Dictionaries"
   ]
  },
  {
   "cell_type": "code",
   "execution_count": 192,
   "metadata": {
    "papermill": {
     "duration": 0.042076,
     "end_time": "2022-06-10T00:07:44.582821",
     "exception": false,
     "start_time": "2022-06-10T00:07:44.540745",
     "status": "completed"
    },
    "tags": []
   },
   "outputs": [],
   "source": [
    "word_to_ix = {word: i for i, word in enumerate(vocab)}\n",
    "ix_to_word = {i: word for i, word in enumerate(vocab)}"
   ]
  },
  {
   "cell_type": "code",
   "execution_count": null,
   "metadata": {},
   "outputs": [],
   "source": []
  },
  {
   "cell_type": "markdown",
   "metadata": {
    "papermill": {
     "duration": 0.030502,
     "end_time": "2022-06-10T00:07:44.655784",
     "exception": false,
     "start_time": "2022-06-10T00:07:44.625282",
     "status": "completed"
    },
    "tags": []
   },
   "source": [
    "### Data bags"
   ]
  },
  {
   "cell_type": "code",
   "execution_count": 193,
   "metadata": {
    "papermill": {
     "duration": 0.041799,
     "end_time": "2022-06-10T00:07:44.728375",
     "exception": false,
     "start_time": "2022-06-10T00:07:44.686576",
     "status": "completed"
    },
    "tags": []
   },
   "outputs": [
    {
     "name": "stdout",
     "output_type": "stream",
     "text": [
      "[(['الذكاء', 'الاصطناعي', 'يهتم', 'بتطوير'], 'مجال'), (['الاصطناعي', 'مجال', 'بتطوير', 'الأنظمة'], 'يهتم'), (['مجال', 'يهتم', 'الأنظمة', 'التي'], 'بتطوير'), (['يهتم', 'بتطوير', 'التي', 'يمكنها'], 'الأنظمة'), (['بتطوير', 'الأنظمة', 'يمكنها', 'أداء'], 'التي')]\n"
     ]
    }
   ],
   "source": [
    "# data - [(context), target]\n",
    "\n",
    "data = []\n",
    "for i in range(2, len(words) - 2):\n",
    "    context = [words[i - 2], words[i - 1], words[i + 1], words[i + 2]]\n",
    "    target = words[i]\n",
    "    data.append((context, target))\n",
    "print(data[:5])"
   ]
  },
  {
   "cell_type": "markdown",
   "metadata": {
    "papermill": {
     "duration": 0.02839,
     "end_time": "2022-06-10T00:07:44.785437",
     "exception": false,
     "start_time": "2022-06-10T00:07:44.757047",
     "status": "completed"
    },
    "tags": []
   },
   "source": [
    "### Embeddings"
   ]
  },
  {
   "cell_type": "code",
   "execution_count": 194,
   "metadata": {
    "papermill": {
     "duration": 0.037456,
     "end_time": "2022-06-10T00:07:44.851567",
     "exception": false,
     "start_time": "2022-06-10T00:07:44.814111",
     "status": "completed"
    },
    "tags": []
   },
   "outputs": [],
   "source": [
    "embeddings =  np.random.random_sample((vocab_size, embed_dim))"
   ]
  },
  {
   "cell_type": "markdown",
   "metadata": {
    "papermill": {
     "duration": 0.030253,
     "end_time": "2022-06-10T00:07:44.911206",
     "exception": false,
     "start_time": "2022-06-10T00:07:44.880953",
     "status": "completed"
    },
    "tags": []
   },
   "source": [
    "### Linear Model"
   ]
  },
  {
   "cell_type": "code",
   "execution_count": 195,
   "metadata": {
    "papermill": {
     "duration": 0.037665,
     "end_time": "2022-06-10T00:07:44.979046",
     "exception": false,
     "start_time": "2022-06-10T00:07:44.941381",
     "status": "completed"
    },
    "tags": []
   },
   "outputs": [],
   "source": [
    "def linear(m, theta):\n",
    "    w = theta\n",
    "    return m.dot(w)"
   ]
  },
  {
   "cell_type": "markdown",
   "metadata": {
    "papermill": {
     "duration": 0.029015,
     "end_time": "2022-06-10T00:07:45.037832",
     "exception": false,
     "start_time": "2022-06-10T00:07:45.008817",
     "status": "completed"
    },
    "tags": []
   },
   "source": [
    "### Log softmax + NLLloss = Cross Entropy"
   ]
  },
  {
   "cell_type": "code",
   "execution_count": 196,
   "metadata": {
    "papermill": {
     "duration": 0.039247,
     "end_time": "2022-06-10T00:07:45.106690",
     "exception": false,
     "start_time": "2022-06-10T00:07:45.067443",
     "status": "completed"
    },
    "tags": []
   },
   "outputs": [],
   "source": [
    "def log_softmax(x):\n",
    "    e_x = np.exp(x - np.max(x))\n",
    "    return np.log(e_x / e_x.sum())"
   ]
  },
  {
   "cell_type": "code",
   "execution_count": 197,
   "metadata": {
    "papermill": {
     "duration": 0.037907,
     "end_time": "2022-06-10T00:07:45.173931",
     "exception": false,
     "start_time": "2022-06-10T00:07:45.136024",
     "status": "completed"
    },
    "tags": []
   },
   "outputs": [],
   "source": [
    "def NLLLoss(logs, targets):\n",
    "    out = logs[range(len(targets)), targets]\n",
    "    return -out.sum()/len(out)"
   ]
  },
  {
   "cell_type": "code",
   "execution_count": 198,
   "metadata": {
    "papermill": {
     "duration": 0.040149,
     "end_time": "2022-06-10T00:07:45.243515",
     "exception": false,
     "start_time": "2022-06-10T00:07:45.203366",
     "status": "completed"
    },
    "tags": []
   },
   "outputs": [],
   "source": [
    "def log_softmax_crossentropy_with_logits(logits,target):\n",
    "\n",
    "    out = np.zeros_like(logits)\n",
    "    out[np.arange(len(logits)),target] = 1\n",
    "    \n",
    "    softmax = np.exp(logits) / np.exp(logits).sum(axis=-1,keepdims=True)\n",
    "    \n",
    "    return (- out + softmax) / logits.shape[0]"
   ]
  },
  {
   "cell_type": "markdown",
   "metadata": {
    "papermill": {
     "duration": 0.028474,
     "end_time": "2022-06-10T00:07:45.302438",
     "exception": false,
     "start_time": "2022-06-10T00:07:45.273964",
     "status": "completed"
    },
    "tags": []
   },
   "source": [
    "### Forward function"
   ]
  },
  {
   "cell_type": "code",
   "execution_count": 199,
   "metadata": {
    "papermill": {
     "duration": 0.038991,
     "end_time": "2022-06-10T00:07:45.370607",
     "exception": false,
     "start_time": "2022-06-10T00:07:45.331616",
     "status": "completed"
    },
    "tags": []
   },
   "outputs": [],
   "source": [
    "def forward(context_idxs, theta):\n",
    "    m = embeddings[context_idxs].reshape(1, -1)\n",
    "    n = linear(m, theta)\n",
    "    o = log_softmax(n)\n",
    "    \n",
    "    return m, n, o"
   ]
  },
  {
   "cell_type": "markdown",
   "metadata": {
    "papermill": {
     "duration": 0.029027,
     "end_time": "2022-06-10T00:07:45.429284",
     "exception": false,
     "start_time": "2022-06-10T00:07:45.400257",
     "status": "completed"
    },
    "tags": []
   },
   "source": [
    "### Backward function"
   ]
  },
  {
   "cell_type": "code",
   "execution_count": 200,
   "metadata": {
    "papermill": {
     "duration": 0.038929,
     "end_time": "2022-06-10T00:07:45.497547",
     "exception": false,
     "start_time": "2022-06-10T00:07:45.458618",
     "status": "completed"
    },
    "tags": []
   },
   "outputs": [],
   "source": [
    "def backward(preds, theta, target_idxs):\n",
    "    m, n, o = preds\n",
    "    \n",
    "    dlog = log_softmax_crossentropy_with_logits(n, target_idxs)\n",
    "    dw = m.T.dot(dlog)\n",
    "    \n",
    "    return dw"
   ]
  },
  {
   "cell_type": "markdown",
   "metadata": {
    "papermill": {
     "duration": 0.028709,
     "end_time": "2022-06-10T00:07:45.555271",
     "exception": false,
     "start_time": "2022-06-10T00:07:45.526562",
     "status": "completed"
    },
    "tags": []
   },
   "source": [
    "### Optimize function"
   ]
  },
  {
   "cell_type": "code",
   "execution_count": 201,
   "metadata": {
    "papermill": {
     "duration": 0.038373,
     "end_time": "2022-06-10T00:07:45.622648",
     "exception": false,
     "start_time": "2022-06-10T00:07:45.584275",
     "status": "completed"
    },
    "tags": []
   },
   "outputs": [],
   "source": [
    "def optimize(theta, grad, lr=0.03):\n",
    "    theta -= grad * lr\n",
    "    return theta"
   ]
  },
  {
   "cell_type": "markdown",
   "metadata": {
    "papermill": {
     "duration": 0.029152,
     "end_time": "2022-06-10T00:07:45.680700",
     "exception": false,
     "start_time": "2022-06-10T00:07:45.651548",
     "status": "completed"
    },
    "tags": []
   },
   "source": [
    "## training"
   ]
  },
  {
   "cell_type": "code",
   "execution_count": 202,
   "metadata": {
    "papermill": {
     "duration": 0.038517,
     "end_time": "2022-06-10T00:07:45.748244",
     "exception": false,
     "start_time": "2022-06-10T00:07:45.709727",
     "status": "completed"
    },
    "tags": []
   },
   "outputs": [],
   "source": [
    "theta = np.random.uniform(-1, 1, (2 * context_size * embed_dim, vocab_size))"
   ]
  },
  {
   "cell_type": "code",
   "execution_count": 203,
   "metadata": {
    "papermill": {
     "duration": 0.53334,
     "end_time": "2022-06-10T00:07:46.311852",
     "exception": false,
     "start_time": "2022-06-10T00:07:45.778512",
     "status": "completed"
    },
    "tags": []
   },
   "outputs": [],
   "source": [
    "epoch_losses = {}\n",
    "\n",
    "for epoch in range(80):\n",
    "\n",
    "    losses =  []\n",
    "\n",
    "    for context, target in data:\n",
    "        context_idxs = np.array([word_to_ix[w] for w in context])\n",
    "        preds = forward(context_idxs, theta)\n",
    "\n",
    "        target_idxs = np.array([word_to_ix[target]])\n",
    "        loss = NLLLoss(preds[-1], target_idxs)\n",
    "\n",
    "        losses.append(loss)\n",
    "\n",
    "        grad = backward(preds, theta, target_idxs)\n",
    "        theta = optimize(theta, grad, lr=0.03)\n",
    "        \n",
    "     \n",
    "    epoch_losses[epoch] = losses"
   ]
  },
  {
   "cell_type": "markdown",
   "metadata": {
    "papermill": {
     "duration": 0.02851,
     "end_time": "2022-06-10T00:07:46.427882",
     "exception": false,
     "start_time": "2022-06-10T00:07:46.399372",
     "status": "completed"
    },
    "tags": []
   },
   "source": [
    "### Plot loss/epoch"
   ]
  },
  {
   "cell_type": "code",
   "execution_count": 204,
   "metadata": {
    "papermill": {
     "duration": 0.234049,
     "end_time": "2022-06-10T00:07:46.690720",
     "exception": false,
     "start_time": "2022-06-10T00:07:46.456671",
     "status": "completed"
    },
    "tags": []
   },
   "outputs": [
    {
     "data": {
      "text/plain": [
       "Text(0, 0.5, 'Losses')"
      ]
     },
     "execution_count": 204,
     "metadata": {},
     "output_type": "execute_result"
    },
    {
     "data": {
      "image/png": "[encoded data removed]",
      "text/plain": [
       "<Figure size 640x480 with 1 Axes>"
      ]
     },
     "metadata": {},
     "output_type": "display_data"
    }
   ],
   "source": [
    "ix = np.arange(0,80)\n",
    "\n",
    "fig = plt.figure()\n",
    "fig.suptitle('Epoch/Losses', fontsize=20)\n",
    "plt.plot(ix,[epoch_losses[i][0] for i in ix])\n",
    "plt.xlabel('Epochs', fontsize=12)\n",
    "plt.ylabel('Losses', fontsize=12)"
   ]
  },
  {
   "cell_type": "markdown",
   "metadata": {
    "papermill": {
     "duration": 0.029768,
     "end_time": "2022-06-10T00:07:46.750715",
     "exception": false,
     "start_time": "2022-06-10T00:07:46.720947",
     "status": "completed"
    },
    "tags": []
   },
   "source": [
    "### Predict function"
   ]
  },
  {
   "cell_type": "code",
   "execution_count": 205,
   "metadata": {
    "papermill": {
     "duration": 0.041312,
     "end_time": "2022-06-10T00:07:46.823033",
     "exception": false,
     "start_time": "2022-06-10T00:07:46.781721",
     "status": "completed"
    },
    "tags": []
   },
   "outputs": [],
   "source": [
    "def predict(words):\n",
    "    context_idxs = np.array([word_to_ix[w] for w in words])\n",
    "    preds = forward(context_idxs, theta)\n",
    "    word = ix_to_word[np.argmax(preds[-1])]\n",
    "    \n",
    "    return word"
   ]
  },
  {
   "cell_type": "code",
   "execution_count": 219,
   "metadata": {
    "papermill": {
     "duration": 0.041972,
     "end_time": "2022-06-10T00:07:46.895243",
     "exception": false,
     "start_time": "2022-06-10T00:07:46.853271",
     "status": "completed"
    },
    "tags": []
   },
   "outputs": [
    {
     "data": {
      "text/plain": [
       "'يهتم'"
      ]
     },
     "execution_count": 219,
     "metadata": {},
     "output_type": "execute_result"
    }
   ],
   "source": [
    "# (['الاصطناعي', 'مجال', 'بتطوير', 'الأنظمة'], 'يهتم')\n",
    "context = ['الأنظمة', 'بتطوير', 'مجال', 'الاصطناعي']\n",
    "context_reordered = context[::-1]\n",
    "predict(context_reordered)"
   ]
  },
  {
   "cell_type": "markdown",
   "metadata": {
    "papermill": {
     "duration": 0.031024,
     "end_time": "2022-06-10T00:07:46.956949",
     "exception": false,
     "start_time": "2022-06-10T00:07:46.925925",
     "status": "completed"
    },
    "tags": []
   },
   "source": [
    "### Accuracy"
   ]
  },
  {
   "cell_type": "code",
   "execution_count": 220,
   "metadata": {
    "papermill": {
     "duration": 0.041186,
     "end_time": "2022-06-10T00:07:47.028854",
     "exception": false,
     "start_time": "2022-06-10T00:07:46.987668",
     "status": "completed"
    },
    "tags": []
   },
   "outputs": [],
   "source": [
    "def accuracy():\n",
    "    wrong = 0\n",
    "\n",
    "    for context, target in data:\n",
    "        if(predict(context) != target):\n",
    "            wrong += 1\n",
    "            \n",
    "    return (1 - (wrong / len(data)))"
   ]
  },
  {
   "cell_type": "code",
   "execution_count": 221,
   "metadata": {
    "papermill": {
     "duration": 0.04378,
     "end_time": "2022-06-10T00:07:47.103867",
     "exception": false,
     "start_time": "2022-06-10T00:07:47.060087",
     "status": "completed"
    },
    "tags": []
   },
   "outputs": [
    {
     "data": {
      "text/plain": [
       "1.0"
      ]
     },
     "execution_count": 221,
     "metadata": {},
     "output_type": "execute_result"
    }
   ],
   "source": [
    "accuracy()"
   ]
  }
 ],
 "metadata": {
  "kernelspec": {
   "display_name": "Python 3",
   "language": "python",
   "name": "python3"
  },
  "language_info": {
   "codemirror_mode": {
    "name": "ipython",
    "version": 3
   },
   "file_extension": ".py",
   "mimetype": "text/x-python",
   "name": "python",
   "nbconvert_exporter": "python",
   "pygments_lexer": "ipython3",
   "version": "3.10.0"
  },
  "papermill": {
   "duration": 9.4663,
   "end_time": "2022-06-10T00:07:47.765671",
   "environment_variables": {},
   "exception": null,
   "input_path": "__notebook__.ipynb",
   "output_path": "__notebook__.ipynb",
   "parameters": {},
   "start_time": "2022-06-10T00:07:38.299371",
   "version": "1.2.1"
  }
 },
 "nbformat": 4,
 "nbformat_minor": 4
}
